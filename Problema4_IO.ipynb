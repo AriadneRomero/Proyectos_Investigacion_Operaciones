{
 "cells": [
  {
   "cell_type": "code",
   "execution_count": 1,
   "metadata": {},
   "outputs": [],
   "source": [
    "import pandas as pd\n",
    "import numpy as np\n",
    "import pyomo.environ as pyo \n",
    "\n",
    "# Equipo4 Integrantes\n",
    "# Ariadne Selena Romero Rivero\n",
    "# Bárbara Fernanda Cantú Reyes\n",
    "# Diego Mauricio Alvarado Esparza\n",
    "# Oziel Rebolledo Pérez"
   ]
  },
  {
   "cell_type": "code",
   "execution_count": 2,
   "metadata": {},
   "outputs": [
    {
     "data": {
      "text/html": [
       "<div>\n",
       "<style scoped>\n",
       "    .dataframe tbody tr th:only-of-type {\n",
       "        vertical-align: middle;\n",
       "    }\n",
       "\n",
       "    .dataframe tbody tr th {\n",
       "        vertical-align: top;\n",
       "    }\n",
       "\n",
       "    .dataframe thead th {\n",
       "        text-align: right;\n",
       "    }\n",
       "</style>\n",
       "<table border=\"1\" class=\"dataframe\">\n",
       "  <thead>\n",
       "    <tr style=\"text-align: right;\">\n",
       "      <th></th>\n",
       "      <th>Casas_Modernas</th>\n",
       "      <th>Acres</th>\n",
       "      <th>Impuesto</th>\n",
       "      <th>Costo</th>\n",
       "      <th>Porcentaje</th>\n",
       "    </tr>\n",
       "  </thead>\n",
       "  <tbody>\n",
       "    <tr>\n",
       "      <th>0</th>\n",
       "      <td>Unifamiliares</td>\n",
       "      <td>0.18</td>\n",
       "      <td>1000</td>\n",
       "      <td>50000</td>\n",
       "      <td>0.20</td>\n",
       "    </tr>\n",
       "    <tr>\n",
       "      <th>1</th>\n",
       "      <td>Dobles</td>\n",
       "      <td>0.28</td>\n",
       "      <td>1900</td>\n",
       "      <td>70000</td>\n",
       "      <td>0.10</td>\n",
       "    </tr>\n",
       "    <tr>\n",
       "      <th>2</th>\n",
       "      <td>Triples</td>\n",
       "      <td>0.40</td>\n",
       "      <td>2700</td>\n",
       "      <td>130000</td>\n",
       "      <td>0.25</td>\n",
       "    </tr>\n",
       "    <tr>\n",
       "      <th>3</th>\n",
       "      <td>Cuadruples</td>\n",
       "      <td>0.50</td>\n",
       "      <td>3400</td>\n",
       "      <td>160000</td>\n",
       "      <td>0.25</td>\n",
       "    </tr>\n",
       "  </tbody>\n",
       "</table>\n",
       "</div>"
      ],
      "text/plain": [
       "  Casas_Modernas  Acres  Impuesto   Costo  Porcentaje\n",
       "0  Unifamiliares   0.18      1000   50000        0.20\n",
       "1         Dobles   0.28      1900   70000        0.10\n",
       "2        Triples   0.40      2700  130000        0.25\n",
       "3     Cuadruples   0.50      3400  160000        0.25"
      ]
     },
     "execution_count": 2,
     "metadata": {},
     "output_type": "execute_result"
    }
   ],
   "source": [
    "# Load data hoja 1\n",
    "# Parametros casas nuevas\n",
    "data_CM = pd.read_excel(\"data/Problema4.xlsx\", sheet_name=\"Hoja1\")\n",
    "data_CM"
   ]
  },
  {
   "cell_type": "code",
   "execution_count": 3,
   "metadata": {},
   "outputs": [
    {
     "data": {
      "text/html": [
       "<div>\n",
       "<style scoped>\n",
       "    .dataframe tbody tr th:only-of-type {\n",
       "        vertical-align: middle;\n",
       "    }\n",
       "\n",
       "    .dataframe tbody tr th {\n",
       "        vertical-align: top;\n",
       "    }\n",
       "\n",
       "    .dataframe thead th {\n",
       "        text-align: right;\n",
       "    }\n",
       "</style>\n",
       "<table border=\"1\" class=\"dataframe\">\n",
       "  <thead>\n",
       "    <tr style=\"text-align: right;\">\n",
       "      <th></th>\n",
       "      <th>Financiamiento</th>\n",
       "      <th>Casas_viejas_disponibles_a_demoler</th>\n",
       "      <th>Area_neta_disponible</th>\n",
       "      <th>Costo_por_demoler_cada_casa</th>\n",
       "    </tr>\n",
       "  </thead>\n",
       "  <tbody>\n",
       "    <tr>\n",
       "      <th>0</th>\n",
       "      <td>15000000</td>\n",
       "      <td>300</td>\n",
       "      <td>0.2125</td>\n",
       "      <td>2000</td>\n",
       "    </tr>\n",
       "  </tbody>\n",
       "</table>\n",
       "</div>"
      ],
      "text/plain": [
       "   Financiamiento  Casas_viejas_disponibles_a_demoler  Area_neta_disponible  \\\n",
       "0        15000000                                 300                0.2125   \n",
       "\n",
       "   Costo_por_demoler_cada_casa  \n",
       "0                         2000  "
      ]
     },
     "execution_count": 3,
     "metadata": {},
     "output_type": "execute_result"
    }
   ],
   "source": [
    "# Load data hoja 2\n",
    "# Parametros casas viejas\n",
    "data_CV = pd.read_excel(\"data/Problema4.xlsx\", sheet_name=\"Hoja2\")\n",
    "data_CV"
   ]
  },
  {
   "cell_type": "code",
   "execution_count": 4,
   "metadata": {},
   "outputs": [],
   "source": [
    "# Para un ConcreteModel necesitamos los datos al inicio\n",
    "# Conjuntos\n",
    "I = data_CM[\"Casas_Modernas\"].unique()  # Conjunto de casas nuevas a fabricar\n",
    "\n",
    "# Parametros\n",
    "G = data_CM.groupby(by=[\"Casas_Modernas\"]).sum()[[\"Impuesto\"]] #Impuesto por unidad de casa nueva i\n",
    "A = data_CM.groupby(by=[\"Casas_Modernas\"]).sum()[[\"Acres\"]] #Cantidad de acres neto para casas nuevas i\n",
    "C = data_CM.groupby(by=[\"Casas_Modernas\"]).sum()[[\"Costo\"]] # Costo por construir casa nueva i\n",
    "Z = data_CM.groupby(by=[\"Casas_Modernas\"]).sum()[[\"Porcentaje\"]] # Porcentaje de casas de nuevas i\n",
    "\n",
    "P = data_CV['Financiamiento'][0] # Financiamiento y/o Presupuesto = 15000000\n",
    "J = data_CV['Casas_viejas_disponibles_a_demoler'][0] #Numero maximo de casas viejas disponibles para demoler = 300\n",
    "B = data_CV['Area_neta_disponible'][0] # Area disponible luego de demoler una casa vieja = 0.2125\n",
    "K = data_CV['Costo_por_demoler_cada_casa'][0] #Costo para demoler 1 casa vieja, esta la agregamos nosotros a la tabla = 2000\n"
   ]
  },
  {
   "cell_type": "code",
   "execution_count": 5,
   "metadata": {},
   "outputs": [
    {
     "data": {
      "text/html": [
       "<div>\n",
       "<style scoped>\n",
       "    .dataframe tbody tr th:only-of-type {\n",
       "        vertical-align: middle;\n",
       "    }\n",
       "\n",
       "    .dataframe tbody tr th {\n",
       "        vertical-align: top;\n",
       "    }\n",
       "\n",
       "    .dataframe thead th {\n",
       "        text-align: right;\n",
       "    }\n",
       "</style>\n",
       "<table border=\"1\" class=\"dataframe\">\n",
       "  <thead>\n",
       "    <tr style=\"text-align: right;\">\n",
       "      <th></th>\n",
       "      <th>Acres</th>\n",
       "    </tr>\n",
       "    <tr>\n",
       "      <th>Casas_Modernas</th>\n",
       "      <th></th>\n",
       "    </tr>\n",
       "  </thead>\n",
       "  <tbody>\n",
       "    <tr>\n",
       "      <th>Cuadruples</th>\n",
       "      <td>0.50</td>\n",
       "    </tr>\n",
       "    <tr>\n",
       "      <th>Dobles</th>\n",
       "      <td>0.28</td>\n",
       "    </tr>\n",
       "    <tr>\n",
       "      <th>Triples</th>\n",
       "      <td>0.40</td>\n",
       "    </tr>\n",
       "    <tr>\n",
       "      <th>Unifamiliares</th>\n",
       "      <td>0.18</td>\n",
       "    </tr>\n",
       "  </tbody>\n",
       "</table>\n",
       "</div>"
      ],
      "text/plain": [
       "                Acres\n",
       "Casas_Modernas       \n",
       "Cuadruples       0.50\n",
       "Dobles           0.28\n",
       "Triples          0.40\n",
       "Unifamiliares    0.18"
      ]
     },
     "execution_count": 5,
     "metadata": {},
     "output_type": "execute_result"
    }
   ],
   "source": [
    "# Impresión de parametros :))\n",
    "A"
   ]
  },
  {
   "cell_type": "markdown",
   "metadata": {},
   "source": [
    "# Concrete Model"
   ]
  },
  {
   "cell_type": "code",
   "execution_count": 6,
   "metadata": {},
   "outputs": [
    {
     "data": {
      "text/plain": [
       "<pyomo.core.base.constraint.ConstraintData at 0x26eca923fc0>"
      ]
     },
     "execution_count": 6,
     "metadata": {},
     "output_type": "execute_result"
    }
   ],
   "source": [
    "# Creamos una variable de la clase ConcreteModel\n",
    "model = pyo.ConcreteModel()\n",
    "\n",
    "# Variables de decisión\n",
    "model.x = pyo.Var(I, within=pyo.NonNegativeIntegers, doc=\"Cantidad de casas modernas i a construir\")\n",
    "model.w = pyo.Var(within=pyo.NonNegativeIntegers, doc=\"Cantidad de casas viejas a demoler\")\n",
    "\n",
    "# Función objetivo\n",
    "model.obj = pyo.Objective(expr=sum(G.loc[i].values[0]*model.x[i] for i in I), sense=pyo.maximize)\n",
    "\n",
    "# Restricciones:\n",
    "\n",
    "# Restriccion 1: ---------------------------------------------------------------------------------\n",
    "#Cantidad de casas a demoler (w) no supere la cantidad maxima de casas disponibles (J)\n",
    "model.con1 = pyo.ConstraintList()\n",
    "model.con1.add(expr=(model.w <= J))\n",
    "#----------------------------------------------------------------------------------------------------\n",
    "\n",
    "\n",
    "# Restriccion 2-------------------------------------------------------------------------------------\n",
    "# Cantidad de acres neto por demoler casas se menor o igual a la cantidad de Acres  utilizados por las casas nuevas\n",
    "model.con2 = pyo.ConstraintList()\n",
    "model.con2.add(expr=sum(A.loc[i].values[0]*model.x[i] for i in I) <= B*model.w) #Falta la w jajan't\n",
    "#----------------------------------------------------------------------------------------------------\n",
    "\n",
    "\n",
    "#Restriccion 3-----------------------------------------------------------------------------------------\n",
    "#El costo de construir casa nuevas y demoler casas viejas no exceda el financiamiento\n",
    "model.con3 = pyo.ConstraintList()\n",
    "\n",
    "def restriccion(model):\n",
    "    return model.w * K + sum(C.loc[i].values[0] * model.x[i] for i in I) <= P\n",
    "\n",
    "model.con3.add(restriccion(model)) # Agregar la restricción a la lista\n",
    "#Lo hicimos asi porque de la otra manera nos daba error :cc\n",
    "#--------------------------------------------- ----------------------------------------------------------\n"
   ]
  },
  {
   "cell_type": "markdown",
   "metadata": {},
   "source": [
    "### Restrición 4\n",
    "Dado que el problema nos menciona **\"Las casas Triples y Cuadruples deben cumplir por lo menos el 25% de todas las casas nuevas\"**.\n",
    "Esta de forma matemática se expresa:"
   ]
  },
  {
   "cell_type": "markdown",
   "metadata": {},
   "source": [
    "$$\n",
    "x_3 + x_4 \\geq 0.25 \\sum_{i} x_i\n",
    "$$"
   ]
  },
  {
   "cell_type": "code",
   "execution_count": 7,
   "metadata": {},
   "outputs": [],
   "source": [
    "# Restriccion 4\n",
    "# Las casas Triples y Cuadruples deben cumplir por lo menos el 25% de todas las casas nuevas\n",
    "model.con4 = pyo.Constraint(expr=model.x[I[2]] + model.x[I[3]] >= 0.25 * sum(model.x[i] for i in I))\n",
    "\n",
    "# Nota: No logramos sacar cada uno de los porcentajes del excel :(\n",
    "# El 0.25 es el porcentaje aplicado a toda la restricción 4"
   ]
  },
  {
   "cell_type": "markdown",
   "metadata": {},
   "source": [
    "### Restrición 5\n",
    "Dado que el problema nos menciona **Las casas unifamiliares deben cumplir minimo el 20% de todas las casas nuevas**.\n",
    "Esta de forma matemática se expresa:"
   ]
  },
  {
   "cell_type": "markdown",
   "metadata": {},
   "source": [
    "$$\n",
    "x_1 \\geq 0.20 \\sum_{i} x_i\n",
    "$$"
   ]
  },
  {
   "cell_type": "code",
   "execution_count": 8,
   "metadata": {},
   "outputs": [],
   "source": [
    "# Restriccion 5\n",
    "# Las casas unifamiliares deben cumplir minimo el 20% de todas las casas nuevas\n",
    "model.con5 = pyo.Constraint(expr=model.x[I[0]] >= 0.20 * sum(model.x[i] for i in I))\n",
    "\n",
    "# El 0.20 es el porcentaje aplicado a toda la restricción 5"
   ]
  },
  {
   "cell_type": "markdown",
   "metadata": {},
   "source": [
    "### Restrición 6\n",
    "Dado que el problema nos menciona **Las casas dobles deben cumplir al menos el 10% de todas las casas nuevas**.\n",
    "Esta de forma matemática se expresa:"
   ]
  },
  {
   "cell_type": "markdown",
   "metadata": {},
   "source": [
    "$$\n",
    "x_2 \\geq 0.10 \\sum_{i} x_i\n",
    "$$"
   ]
  },
  {
   "cell_type": "code",
   "execution_count": 9,
   "metadata": {},
   "outputs": [],
   "source": [
    "# Restriccion 6\n",
    "# Las casas dobles deben cumplir al menos el 10% de todas las casas nuevas\n",
    "model.con6 = pyo.Constraint(expr=model.x[I[1]] >= 0.10 * sum(model.x[i] for i in I))\n",
    "\n",
    "# El 0.10 es el porcentaje aplicado a toda la restricción 6"
   ]
  },
  {
   "cell_type": "code",
   "execution_count": 10,
   "metadata": {},
   "outputs": [
    {
     "name": "stdout",
     "output_type": "stream",
     "text": [
      "2 Var Declarations\n",
      "    w : Cantidad de casas viejas a demoler\n",
      "        Size=1, Index=None\n",
      "        Key  : Lower : Value : Upper : Fixed : Stale : Domain\n",
      "        None :     0 :  None :  None : False :  True : NonNegativeIntegers\n",
      "    x : Cantidad de casas modernas i a construir\n",
      "        Size=4, Index={Cuadruples, Unifamiliares, Dobles, Triples}\n",
      "        Key           : Lower : Value : Upper : Fixed : Stale : Domain\n",
      "           Cuadruples :     0 :  None :  None : False :  True : NonNegativeIntegers\n",
      "               Dobles :     0 :  None :  None : False :  True : NonNegativeIntegers\n",
      "              Triples :     0 :  None :  None : False :  True : NonNegativeIntegers\n",
      "        Unifamiliares :     0 :  None :  None : False :  True : NonNegativeIntegers\n",
      "\n",
      "1 Objective Declarations\n",
      "    obj : Size=1, Index=None, Active=True\n",
      "        Key  : Active : Sense    : Expression\n",
      "        None :   True : maximize : 1000*x[Unifamiliares] + 1900*x[Dobles] + 2700*x[Triples] + 3400*x[Cuadruples]\n",
      "\n",
      "6 Constraint Declarations\n",
      "    con1 : Size=1, Index={1}, Active=True\n",
      "        Key : Lower : Body : Upper : Active\n",
      "          1 :  -Inf :    w : 300.0 :   True\n",
      "    con2 : Size=1, Index={1}, Active=True\n",
      "        Key : Lower : Body                                                                                   : Upper : Active\n",
      "          1 :  -Inf : 0.18*x[Unifamiliares] + 0.28*x[Dobles] + 0.4*x[Triples] + 0.5*x[Cuadruples] - 0.2125*w :   0.0 :   True\n",
      "    con3 : Size=1, Index={1}, Active=True\n",
      "        Key : Lower : Body                                                                                         : Upper      : Active\n",
      "          1 :  -Inf : 50000*x[Unifamiliares] + 70000*x[Dobles] + 130000*x[Triples] + 160000*x[Cuadruples] + 2000*w : 15000000.0 :   True\n",
      "    con4 : Size=1, Index=None, Active=True\n",
      "        Key  : Lower : Body                                                                                            : Upper : Active\n",
      "        None :  -Inf : 0.25*(x[Unifamiliares] + x[Dobles] + x[Triples] + x[Cuadruples]) - (x[Triples] + x[Cuadruples]) :   0.0 :   True\n",
      "    con5 : Size=1, Index=None, Active=True\n",
      "        Key  : Lower : Body                                                                               : Upper : Active\n",
      "        None :  -Inf : 0.2*(x[Unifamiliares] + x[Dobles] + x[Triples] + x[Cuadruples]) - x[Unifamiliares] :   0.0 :   True\n",
      "    con6 : Size=1, Index=None, Active=True\n",
      "        Key  : Lower : Body                                                                        : Upper : Active\n",
      "        None :  -Inf : 0.1*(x[Unifamiliares] + x[Dobles] + x[Triples] + x[Cuadruples]) - x[Dobles] :   0.0 :   True\n",
      "\n",
      "9 Declarations: x w obj con1 con2 con3 con4 con5 con6\n"
     ]
    }
   ],
   "source": [
    "model.pprint()"
   ]
  },
  {
   "cell_type": "code",
   "execution_count": 11,
   "metadata": {},
   "outputs": [],
   "source": [
    "# Llamamos al solver GLPK y resolvemos el problema\n",
    "solver = pyo.SolverFactory(\"glpk\")\n",
    "resultados = solver.solve(model)"
   ]
  },
  {
   "cell_type": "code",
   "execution_count": 12,
   "metadata": {},
   "outputs": [
    {
     "data": {
      "text/plain": [
       "{'Problem': [{'Name': 'unknown', 'Lower bound': 343700.0, 'Upper bound': 343700.0, 'Number of objectives': 1, 'Number of constraints': 6, 'Number of variables': 5, 'Number of nonzeros': 23, 'Sense': 'maximize'}], 'Solver': [{'Status': 'ok', 'Termination condition': 'optimal', 'Statistics': {'Branch and bound': {'Number of bounded subproblems': '11', 'Number of created subproblems': '11'}}, 'Error rc': 0, 'Time': 0.04245805740356445}], 'Solution': [OrderedDict({'number of solutions': 0, 'number of solutions displayed': 0})]}"
      ]
     },
     "execution_count": 12,
     "metadata": {},
     "output_type": "execute_result"
    }
   ],
   "source": [
    "resultados"
   ]
  },
  {
   "cell_type": "code",
   "execution_count": 13,
   "metadata": {},
   "outputs": [
    {
     "name": "stdout",
     "output_type": "stream",
     "text": [
      "Cantidad de casas Unifamiliares a construir: 36.0\n",
      "Cantidad de casas Dobles a construir: 98.0\n",
      "Cantidad de casas Triples a construir: 45.0\n",
      "Cantidad de casas Cuadruples a construir: 0.0\n"
     ]
    }
   ],
   "source": [
    "for casa in I: \n",
    "    print(\"Cantidad de casas {} a construir: {}\".format(casa, pyo.value(model.x[casa])))"
   ]
  },
  {
   "cell_type": "code",
   "execution_count": 14,
   "metadata": {},
   "outputs": [
    {
     "name": "stdout",
     "output_type": "stream",
     "text": [
      "La cantidad de casas demolidas es: 245.0\n"
     ]
    }
   ],
   "source": [
    "#Cantidad de casas a demoler\n",
    "print(\"La cantidad de casas demolidas es:\", pyo.value(model.w))"
   ]
  },
  {
   "cell_type": "code",
   "execution_count": 15,
   "metadata": {},
   "outputs": [
    {
     "data": {
      "text/plain": [
       "343700.0"
      ]
     },
     "execution_count": 15,
     "metadata": {},
     "output_type": "execute_result"
    }
   ],
   "source": [
    "# Recaudación maxima del total de impuestos\n",
    "pyo.value(model.obj)"
   ]
  }
 ],
 "metadata": {
  "kernelspec": {
   "display_name": "base",
   "language": "python",
   "name": "python3"
  },
  "language_info": {
   "codemirror_mode": {
    "name": "ipython",
    "version": 3
   },
   "file_extension": ".py",
   "mimetype": "text/x-python",
   "name": "python",
   "nbconvert_exporter": "python",
   "pygments_lexer": "ipython3",
   "version": "3.12.3"
  }
 },
 "nbformat": 4,
 "nbformat_minor": 2
}
