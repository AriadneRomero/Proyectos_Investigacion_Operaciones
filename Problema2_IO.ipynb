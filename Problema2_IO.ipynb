{
 "cells": [
  {
   "cell_type": "code",
   "execution_count": 2,
   "metadata": {},
   "outputs": [],
   "source": [
    "import pandas as pd\n",
    "import numpy as np\n",
    "import pyomo.environ as pyo \n",
    "\n",
    "# Integrantes Equipo 8\n",
    "# Robinson de Leon Morales: 2005055\n",
    "# Ariadne Selena Romero Rivero: 1957540\n",
    "# Alberto García García: 2011616\n",
    "# Samuel Kono Peralta: 1995284"
   ]
  },
  {
   "cell_type": "code",
   "execution_count": 3,
   "metadata": {},
   "outputs": [],
   "source": [
    "# Load data hojas\n",
    "# Parametros \n",
    "# Demanda\n",
    "data_m = pd.read_excel(\"data/Problema2.xlsx\", sheet_name=\"Demanda\")\n",
    "\n",
    "# Productos\n",
    "data_p = pd.read_excel(\"data/Problema2.xlsx\", sheet_name=\"Productos\")"
   ]
  },
  {
   "cell_type": "code",
   "execution_count": 18,
   "metadata": {},
   "outputs": [
    {
     "data": {
      "text/html": [
       "<div>\n",
       "<style scoped>\n",
       "    .dataframe tbody tr th:only-of-type {\n",
       "        vertical-align: middle;\n",
       "    }\n",
       "\n",
       "    .dataframe tbody tr th {\n",
       "        vertical-align: top;\n",
       "    }\n",
       "\n",
       "    .dataframe thead th {\n",
       "        text-align: right;\n",
       "    }\n",
       "</style>\n",
       "<table border=\"1\" class=\"dataframe\">\n",
       "  <thead>\n",
       "    <tr style=\"text-align: right;\">\n",
       "      <th></th>\n",
       "      <th>Producto</th>\n",
       "      <th>Costo_produccion</th>\n",
       "      <th>Costo_almacenaje</th>\n",
       "      <th>Inventario_inicial</th>\n",
       "      <th>Inventario_final</th>\n",
       "    </tr>\n",
       "  </thead>\n",
       "  <tbody>\n",
       "    <tr>\n",
       "      <th>0</th>\n",
       "      <td>1</td>\n",
       "      <td>20</td>\n",
       "      <td>0.4</td>\n",
       "      <td>10</td>\n",
       "      <td>50</td>\n",
       "    </tr>\n",
       "    <tr>\n",
       "      <th>1</th>\n",
       "      <td>2</td>\n",
       "      <td>25</td>\n",
       "      <td>0.5</td>\n",
       "      <td>0</td>\n",
       "      <td>10</td>\n",
       "    </tr>\n",
       "    <tr>\n",
       "      <th>2</th>\n",
       "      <td>3</td>\n",
       "      <td>10</td>\n",
       "      <td>0.3</td>\n",
       "      <td>0</td>\n",
       "      <td>10</td>\n",
       "    </tr>\n",
       "    <tr>\n",
       "      <th>3</th>\n",
       "      <td>4</td>\n",
       "      <td>15</td>\n",
       "      <td>0.3</td>\n",
       "      <td>0</td>\n",
       "      <td>10</td>\n",
       "    </tr>\n",
       "  </tbody>\n",
       "</table>\n",
       "</div>"
      ],
      "text/plain": [
       "   Producto  Costo_produccion  Costo_almacenaje  Inventario_inicial  \\\n",
       "0         1                20               0.4                  10   \n",
       "1         2                25               0.5                   0   \n",
       "2         3                10               0.3                   0   \n",
       "3         4                15               0.3                   0   \n",
       "\n",
       "   Inventario_final  \n",
       "0                50  \n",
       "1                10  \n",
       "2                10  \n",
       "3                10  "
      ]
     },
     "execution_count": 18,
     "metadata": {},
     "output_type": "execute_result"
    }
   ],
   "source": [
    "data_p"
   ]
  },
  {
   "cell_type": "code",
   "execution_count": 4,
   "metadata": {},
   "outputs": [],
   "source": [
    "# Para un ConcreteModel necesitamos los datos al inicio\n",
    "# Conjuntos\n",
    "\n",
    "I = data_p[\"Producto\"].unique() # Productos\n",
    "J = range(1,7) # meses\n",
    "\n",
    "# Parametros\n",
    "D = data_m.groupby(by=[\"Producto\"]).sum()\n",
    "C = data_p.groupby(by=[\"Producto\"]).sum()[[\"Costo_produccion\"]]\n",
    "A = data_p.groupby(by=[\"Producto\"]).sum()[[\"Costo_almacenaje\"]]\n",
    "Y = data_p.groupby(by=[\"Producto\"]).sum()[[\"Inventario_inicial\"]]\n",
    "Z = data_p.groupby(by=[\"Producto\"]).sum()[[\"Inventario_final\"]]\n",
    "\n",
    "M = 1  #1$ por unidad incrementada\n",
    "N = 0.5 #$0.5 por unidad decrementadas"
   ]
  },
  {
   "cell_type": "code",
   "execution_count": 16,
   "metadata": {},
   "outputs": [
    {
     "data": {
      "text/plain": [
       "0"
      ]
     },
     "execution_count": 16,
     "metadata": {},
     "output_type": "execute_result"
    }
   ],
   "source": [
    "# Impresión de parametros :))\n",
    "Y.loc[2].values[0]"
   ]
  },
  {
   "cell_type": "markdown",
   "metadata": {},
   "source": [
    "# Concrete Model"
   ]
  },
  {
   "cell_type": "code",
   "execution_count": null,
   "metadata": {},
   "outputs": [
    {
     "ename": "KeyError",
     "evalue": "(1, 1)",
     "output_type": "error",
     "traceback": [
      "\u001b[1;31m---------------------------------------------------------------------------\u001b[0m",
      "\u001b[1;31mKeyError\u001b[0m                                  Traceback (most recent call last)",
      "File \u001b[1;32m~\\AppData\\Roaming\\Python\\Python312\\site-packages\\pandas\\core\\indexes\\base.py:3805\u001b[0m, in \u001b[0;36mIndex.get_loc\u001b[1;34m(self, key)\u001b[0m\n\u001b[0;32m   3804\u001b[0m \u001b[38;5;28;01mtry\u001b[39;00m:\n\u001b[1;32m-> 3805\u001b[0m     \u001b[38;5;28;01mreturn\u001b[39;00m \u001b[38;5;28;43mself\u001b[39;49m\u001b[38;5;241;43m.\u001b[39;49m\u001b[43m_engine\u001b[49m\u001b[38;5;241;43m.\u001b[39;49m\u001b[43mget_loc\u001b[49m\u001b[43m(\u001b[49m\u001b[43mcasted_key\u001b[49m\u001b[43m)\u001b[49m\n\u001b[0;32m   3806\u001b[0m \u001b[38;5;28;01mexcept\u001b[39;00m \u001b[38;5;167;01mKeyError\u001b[39;00m \u001b[38;5;28;01mas\u001b[39;00m err:\n",
      "File \u001b[1;32mindex.pyx:167\u001b[0m, in \u001b[0;36mpandas._libs.index.IndexEngine.get_loc\u001b[1;34m()\u001b[0m\n",
      "File \u001b[1;32mindex.pyx:196\u001b[0m, in \u001b[0;36mpandas._libs.index.IndexEngine.get_loc\u001b[1;34m()\u001b[0m\n",
      "File \u001b[1;32mpandas\\\\_libs\\\\hashtable_class_helper.pxi:7081\u001b[0m, in \u001b[0;36mpandas._libs.hashtable.PyObjectHashTable.get_item\u001b[1;34m()\u001b[0m\n",
      "File \u001b[1;32mpandas\\\\_libs\\\\hashtable_class_helper.pxi:7089\u001b[0m, in \u001b[0;36mpandas._libs.hashtable.PyObjectHashTable.get_item\u001b[1;34m()\u001b[0m\n",
      "\u001b[1;31mKeyError\u001b[0m: (1, 1)",
      "\nThe above exception was the direct cause of the following exception:\n",
      "\u001b[1;31mKeyError\u001b[0m                                  Traceback (most recent call last)",
      "Cell \u001b[1;32mIn[14], line 26\u001b[0m\n\u001b[0;32m     24\u001b[0m \u001b[38;5;28;01mfor\u001b[39;00m j \u001b[38;5;129;01min\u001b[39;00m J:\n\u001b[0;32m     25\u001b[0m     \u001b[38;5;28;01mif\u001b[39;00m j \u001b[38;5;241m==\u001b[39m \u001b[38;5;241m1\u001b[39m:  \u001b[38;5;66;03m# Caso base (j == 1)\u001b[39;00m\n\u001b[1;32m---> 26\u001b[0m         model\u001b[38;5;241m.\u001b[39mcon1\u001b[38;5;241m.\u001b[39madd(model\u001b[38;5;241m.\u001b[39mS[i, j] \u001b[38;5;241m==\u001b[39m Y\u001b[38;5;241m.\u001b[39mloc[i]\u001b[38;5;241m.\u001b[39mvalues[\u001b[38;5;241m0\u001b[39m] \u001b[38;5;241m+\u001b[39m model\u001b[38;5;241m.\u001b[39mP[i, j] \u001b[38;5;241m-\u001b[39m \u001b[43mD\u001b[49m\u001b[43m[\u001b[49m\u001b[43mi\u001b[49m\u001b[43m,\u001b[49m\u001b[43m \u001b[49m\u001b[43mj\u001b[49m\u001b[43m]\u001b[49m)\n\u001b[0;32m     27\u001b[0m     \u001b[38;5;28;01melse\u001b[39;00m:  \u001b[38;5;66;03m# Caso general (j > 1)\u001b[39;00m\n\u001b[0;32m     28\u001b[0m         model\u001b[38;5;241m.\u001b[39mcon1\u001b[38;5;241m.\u001b[39madd(model\u001b[38;5;241m.\u001b[39mS[i, j] \u001b[38;5;241m==\u001b[39m model\u001b[38;5;241m.\u001b[39mS[i, j\u001b[38;5;241m-\u001b[39m\u001b[38;5;241m1\u001b[39m] \u001b[38;5;241m+\u001b[39m model\u001b[38;5;241m.\u001b[39mP[i, j] \u001b[38;5;241m-\u001b[39m D[i, j])        \n",
      "File \u001b[1;32m~\\AppData\\Roaming\\Python\\Python312\\site-packages\\pandas\\core\\frame.py:4102\u001b[0m, in \u001b[0;36mDataFrame.__getitem__\u001b[1;34m(self, key)\u001b[0m\n\u001b[0;32m   4100\u001b[0m \u001b[38;5;28;01mif\u001b[39;00m \u001b[38;5;28mself\u001b[39m\u001b[38;5;241m.\u001b[39mcolumns\u001b[38;5;241m.\u001b[39mnlevels \u001b[38;5;241m>\u001b[39m \u001b[38;5;241m1\u001b[39m:\n\u001b[0;32m   4101\u001b[0m     \u001b[38;5;28;01mreturn\u001b[39;00m \u001b[38;5;28mself\u001b[39m\u001b[38;5;241m.\u001b[39m_getitem_multilevel(key)\n\u001b[1;32m-> 4102\u001b[0m indexer \u001b[38;5;241m=\u001b[39m \u001b[38;5;28;43mself\u001b[39;49m\u001b[38;5;241;43m.\u001b[39;49m\u001b[43mcolumns\u001b[49m\u001b[38;5;241;43m.\u001b[39;49m\u001b[43mget_loc\u001b[49m\u001b[43m(\u001b[49m\u001b[43mkey\u001b[49m\u001b[43m)\u001b[49m\n\u001b[0;32m   4103\u001b[0m \u001b[38;5;28;01mif\u001b[39;00m is_integer(indexer):\n\u001b[0;32m   4104\u001b[0m     indexer \u001b[38;5;241m=\u001b[39m [indexer]\n",
      "File \u001b[1;32m~\\AppData\\Roaming\\Python\\Python312\\site-packages\\pandas\\core\\indexes\\base.py:3812\u001b[0m, in \u001b[0;36mIndex.get_loc\u001b[1;34m(self, key)\u001b[0m\n\u001b[0;32m   3807\u001b[0m     \u001b[38;5;28;01mif\u001b[39;00m \u001b[38;5;28misinstance\u001b[39m(casted_key, \u001b[38;5;28mslice\u001b[39m) \u001b[38;5;129;01mor\u001b[39;00m (\n\u001b[0;32m   3808\u001b[0m         \u001b[38;5;28misinstance\u001b[39m(casted_key, abc\u001b[38;5;241m.\u001b[39mIterable)\n\u001b[0;32m   3809\u001b[0m         \u001b[38;5;129;01mand\u001b[39;00m \u001b[38;5;28many\u001b[39m(\u001b[38;5;28misinstance\u001b[39m(x, \u001b[38;5;28mslice\u001b[39m) \u001b[38;5;28;01mfor\u001b[39;00m x \u001b[38;5;129;01min\u001b[39;00m casted_key)\n\u001b[0;32m   3810\u001b[0m     ):\n\u001b[0;32m   3811\u001b[0m         \u001b[38;5;28;01mraise\u001b[39;00m InvalidIndexError(key)\n\u001b[1;32m-> 3812\u001b[0m     \u001b[38;5;28;01mraise\u001b[39;00m \u001b[38;5;167;01mKeyError\u001b[39;00m(key) \u001b[38;5;28;01mfrom\u001b[39;00m \u001b[38;5;21;01merr\u001b[39;00m\n\u001b[0;32m   3813\u001b[0m \u001b[38;5;28;01mexcept\u001b[39;00m \u001b[38;5;167;01mTypeError\u001b[39;00m:\n\u001b[0;32m   3814\u001b[0m     \u001b[38;5;66;03m# If we have a listlike key, _check_indexing_error will raise\u001b[39;00m\n\u001b[0;32m   3815\u001b[0m     \u001b[38;5;66;03m#  InvalidIndexError. Otherwise we fall through and re-raise\u001b[39;00m\n\u001b[0;32m   3816\u001b[0m     \u001b[38;5;66;03m#  the TypeError.\u001b[39;00m\n\u001b[0;32m   3817\u001b[0m     \u001b[38;5;28mself\u001b[39m\u001b[38;5;241m.\u001b[39m_check_indexing_error(key)\n",
      "\u001b[1;31mKeyError\u001b[0m: (1, 1)"
     ]
    }
   ],
   "source": [
    "# Creamos una variable de la clase ConcreteModel\n",
    "model = pyo.ConcreteModel()\n",
    "\n",
    "# Variables de decisión\n",
    "model.P = pyo.Var(I,J, within=pyo.NonNegativeIntegers, doc=\"Cantidad de producción del producto I en el mes J\")\n",
    "model.S = pyo.Var(I,J, within=pyo.NonNegativeIntegers, doc=\"Inventario del producto I al final del mes J\")\n",
    "model.incremento = pyo.Var(J, within=pyo.NonNegativeIntegers, doc=\"Incremento de la producción entre los meses\")\n",
    "model.decremento = pyo.Var(J, within=pyo.NonNegativeIntegers, doc=\"Decremento de la producción entre los meses\")\n",
    "\n",
    "\n",
    "# Función objetivo\n",
    "model.obj = pyo.Objective(\n",
    "    expr=sum(C.loc[i].values[0] * model.P[i, j] for i in I for j in J) +\n",
    "         sum(A.loc[i].values[0] * model.S[i, j] for i in I for j in J) +\n",
    "         sum(M * model.incremento[j] + N * model.decremento[j] for j in J if j > 1),\n",
    "    sense=pyo.minimize\n",
    ")\n",
    "\n",
    "\n",
    "# Restricciones\n",
    "# Restricción 1: Balance de inventario\n",
    "model.con1 = pyo.ConstraintList()\n",
    "for i in I:\n",
    "    for j in J:\n",
    "        if j == 1:\n",
    "            model.con1.add(model.S[i, j] == Y.loc[i].values[0] + model.P[i, j] - D.loc[i].values[j-1])\n",
    "        else:\n",
    "            model.con1.add(model.S[i, j] == model.S[i, j-1] + model.P[i, j] - D.loc[i].values[j-1])\n",
    "                \n",
    "# -----------------------------------------------------------------------\n",
    "\n",
    "# Restricción 2: Cumplir el inventario final\n",
    "# El inventario inicial lo tomamos en cuenta en la restricción 1\n",
    "model.con2 = pyo.ConstraintList()\n",
    "for i in I:\n",
    "    model.con2.add(model.S[i, len(J)] == Z.loc[i].values[0])\n",
    "    \n",
    "# ---------------------------------------------------------------------------------------------------------  \n",
    "\n",
    "\n",
    "# Restricción 3: Restricciones de incremento y decremento\n",
    "model.con3 = pyo.ConstraintList()\n",
    "for j in J:\n",
    "    if j > 1:  # Evita el acceso fuera de rango cuando j=1\n",
    "        model.con3.add(sum(model.P[i, j] - model.P[i, j - 1] for i in I) \n",
    "            == model.incremento[j] - model.decremento[j]\n",
    "        )\n",
    "    else:\n",
    "        model.con3.add(\n",
    "            sum(model.P[i, j] for i in I) == model.incremento[j]  # No hay decremento en el primer mes\n",
    "        )\n",
    "# -------------------------------------------------------------------------------------\n"
   ]
  },
  {
   "cell_type": "code",
   "execution_count": 9,
   "metadata": {},
   "outputs": [
    {
     "name": "stdout",
     "output_type": "stream",
     "text": [
      "4 Var Declarations\n",
      "    P : Cantidad de producción del producto I en el mes J\n",
      "        Size=24, Index={1, 2, 3, 4}*{1, 2, 3, 4, 5, 6}\n",
      "        Key    : Lower : Value : Upper : Fixed : Stale : Domain\n",
      "        (1, 1) :     0 :  None :  None : False :  True : NonNegativeIntegers\n",
      "        (1, 2) :     0 :  None :  None : False :  True : NonNegativeIntegers\n",
      "        (1, 3) :     0 :  None :  None : False :  True : NonNegativeIntegers\n",
      "        (1, 4) :     0 :  None :  None : False :  True : NonNegativeIntegers\n",
      "        (1, 5) :     0 :  None :  None : False :  True : NonNegativeIntegers\n",
      "        (1, 6) :     0 :  None :  None : False :  True : NonNegativeIntegers\n",
      "        (2, 1) :     0 :  None :  None : False :  True : NonNegativeIntegers\n",
      "        (2, 2) :     0 :  None :  None : False :  True : NonNegativeIntegers\n",
      "        (2, 3) :     0 :  None :  None : False :  True : NonNegativeIntegers\n",
      "        (2, 4) :     0 :  None :  None : False :  True : NonNegativeIntegers\n",
      "        (2, 5) :     0 :  None :  None : False :  True : NonNegativeIntegers\n",
      "        (2, 6) :     0 :  None :  None : False :  True : NonNegativeIntegers\n",
      "        (3, 1) :     0 :  None :  None : False :  True : NonNegativeIntegers\n",
      "        (3, 2) :     0 :  None :  None : False :  True : NonNegativeIntegers\n",
      "        (3, 3) :     0 :  None :  None : False :  True : NonNegativeIntegers\n",
      "        (3, 4) :     0 :  None :  None : False :  True : NonNegativeIntegers\n",
      "        (3, 5) :     0 :  None :  None : False :  True : NonNegativeIntegers\n",
      "        (3, 6) :     0 :  None :  None : False :  True : NonNegativeIntegers\n",
      "        (4, 1) :     0 :  None :  None : False :  True : NonNegativeIntegers\n",
      "        (4, 2) :     0 :  None :  None : False :  True : NonNegativeIntegers\n",
      "        (4, 3) :     0 :  None :  None : False :  True : NonNegativeIntegers\n",
      "        (4, 4) :     0 :  None :  None : False :  True : NonNegativeIntegers\n",
      "        (4, 5) :     0 :  None :  None : False :  True : NonNegativeIntegers\n",
      "        (4, 6) :     0 :  None :  None : False :  True : NonNegativeIntegers\n",
      "    S : Inventario del producto I al final del mes J\n",
      "        Size=24, Index={1, 2, 3, 4}*{1, 2, 3, 4, 5, 6}\n",
      "        Key    : Lower : Value : Upper : Fixed : Stale : Domain\n",
      "        (1, 1) :     0 :  None :  None : False :  True : NonNegativeIntegers\n",
      "        (1, 2) :     0 :  None :  None : False :  True : NonNegativeIntegers\n",
      "        (1, 3) :     0 :  None :  None : False :  True : NonNegativeIntegers\n",
      "        (1, 4) :     0 :  None :  None : False :  True : NonNegativeIntegers\n",
      "        (1, 5) :     0 :  None :  None : False :  True : NonNegativeIntegers\n",
      "        (1, 6) :     0 :  None :  None : False :  True : NonNegativeIntegers\n",
      "        (2, 1) :     0 :  None :  None : False :  True : NonNegativeIntegers\n",
      "        (2, 2) :     0 :  None :  None : False :  True : NonNegativeIntegers\n",
      "        (2, 3) :     0 :  None :  None : False :  True : NonNegativeIntegers\n",
      "        (2, 4) :     0 :  None :  None : False :  True : NonNegativeIntegers\n",
      "        (2, 5) :     0 :  None :  None : False :  True : NonNegativeIntegers\n",
      "        (2, 6) :     0 :  None :  None : False :  True : NonNegativeIntegers\n",
      "        (3, 1) :     0 :  None :  None : False :  True : NonNegativeIntegers\n",
      "        (3, 2) :     0 :  None :  None : False :  True : NonNegativeIntegers\n",
      "        (3, 3) :     0 :  None :  None : False :  True : NonNegativeIntegers\n",
      "        (3, 4) :     0 :  None :  None : False :  True : NonNegativeIntegers\n",
      "        (3, 5) :     0 :  None :  None : False :  True : NonNegativeIntegers\n",
      "        (3, 6) :     0 :  None :  None : False :  True : NonNegativeIntegers\n",
      "        (4, 1) :     0 :  None :  None : False :  True : NonNegativeIntegers\n",
      "        (4, 2) :     0 :  None :  None : False :  True : NonNegativeIntegers\n",
      "        (4, 3) :     0 :  None :  None : False :  True : NonNegativeIntegers\n",
      "        (4, 4) :     0 :  None :  None : False :  True : NonNegativeIntegers\n",
      "        (4, 5) :     0 :  None :  None : False :  True : NonNegativeIntegers\n",
      "        (4, 6) :     0 :  None :  None : False :  True : NonNegativeIntegers\n",
      "    decremento : Decremento de la producción entre los meses\n",
      "        Size=6, Index={1, 2, 3, 4, 5, 6}\n",
      "        Key : Lower : Value : Upper : Fixed : Stale : Domain\n",
      "          1 :     0 :  None :  None : False :  True : NonNegativeIntegers\n",
      "          2 :     0 :  None :  None : False :  True : NonNegativeIntegers\n",
      "          3 :     0 :  None :  None : False :  True : NonNegativeIntegers\n",
      "          4 :     0 :  None :  None : False :  True : NonNegativeIntegers\n",
      "          5 :     0 :  None :  None : False :  True : NonNegativeIntegers\n",
      "          6 :     0 :  None :  None : False :  True : NonNegativeIntegers\n",
      "    incremento : Incremento de la producción entre los meses\n",
      "        Size=6, Index={1, 2, 3, 4, 5, 6}\n",
      "        Key : Lower : Value : Upper : Fixed : Stale : Domain\n",
      "          1 :     0 :  None :  None : False :  True : NonNegativeIntegers\n",
      "          2 :     0 :  None :  None : False :  True : NonNegativeIntegers\n",
      "          3 :     0 :  None :  None : False :  True : NonNegativeIntegers\n",
      "          4 :     0 :  None :  None : False :  True : NonNegativeIntegers\n",
      "          5 :     0 :  None :  None : False :  True : NonNegativeIntegers\n",
      "          6 :     0 :  None :  None : False :  True : NonNegativeIntegers\n",
      "\n",
      "1 Objective Declarations\n",
      "    obj : Size=1, Index=None, Active=True\n",
      "        Key  : Active : Sense    : Expression\n",
      "        None :   True : minimize : 20*P[1,1] + 20*P[1,2] + 20*P[1,3] + 20*P[1,4] + 20*P[1,5] + 20*P[1,6] + 25*P[2,1] + 25*P[2,2] + 25*P[2,3] + 25*P[2,4] + 25*P[2,5] + 25*P[2,6] + 10*P[3,1] + 10*P[3,2] + 10*P[3,3] + 10*P[3,4] + 10*P[3,5] + 10*P[3,6] + 15*P[4,1] + 15*P[4,2] + 15*P[4,3] + 15*P[4,4] + 15*P[4,5] + 15*P[4,6] + 0.4*S[1,1] + 0.4*S[1,2] + 0.4*S[1,3] + 0.4*S[1,4] + 0.4*S[1,5] + 0.4*S[1,6] + 0.5*S[2,1] + 0.5*S[2,2] + 0.5*S[2,3] + 0.5*S[2,4] + 0.5*S[2,5] + 0.5*S[2,6] + 0.3*S[3,1] + 0.3*S[3,2] + 0.3*S[3,3] + 0.3*S[3,4] + 0.3*S[3,5] + 0.3*S[3,6] + 0.3*S[4,1] + 0.3*S[4,2] + 0.3*S[4,3] + 0.3*S[4,4] + 0.3*S[4,5] + 0.3*S[4,6] + incremento[2] + 0.5*decremento[2] + incremento[3] + 0.5*decremento[3] + incremento[4] + 0.5*decremento[4] + incremento[5] + 0.5*decremento[5] + incremento[6] + 0.5*decremento[6]\n",
      "\n",
      "3 Constraint Declarations\n",
      "    con1 : Size=24, Index={1, 2, 3, 4, 5, 6, 7, 8, 9, 10, 11, 12, 13, 14, 15, 16, 17, 18, 19, 20, 21, 22, 23, 24}, Active=True\n",
      "        Key : Lower : Body                              : Upper : Active\n",
      "          1 :   0.0 :     S[1,1] - (10 + P[1,1] - 1500) :   0.0 :   True\n",
      "          2 :   0.0 : S[1,2] - (S[1,1] + P[1,2] - 3000) :   0.0 :   True\n",
      "          3 :   0.0 : S[1,3] - (S[1,2] + P[1,3] - 2000) :   0.0 :   True\n",
      "          4 :   0.0 : S[1,4] - (S[1,3] + P[1,4] - 4000) :   0.0 :   True\n",
      "          5 :   0.0 : S[1,5] - (S[1,4] + P[1,5] - 2000) :   0.0 :   True\n",
      "          6 :   0.0 : S[1,6] - (S[1,5] + P[1,6] - 2500) :   0.0 :   True\n",
      "          7 :   0.0 :          S[2,1] - (P[2,1] - 1300) :   0.0 :   True\n",
      "          8 :   0.0 :  S[2,2] - (S[2,1] + P[2,2] - 800) :   0.0 :   True\n",
      "          9 :   0.0 :  S[2,3] - (S[2,2] + P[2,3] - 800) :   0.0 :   True\n",
      "         10 :   0.0 : S[2,4] - (S[2,3] + P[2,4] - 1000) :   0.0 :   True\n",
      "         11 :   0.0 : S[2,5] - (S[2,4] + P[2,5] - 1100) :   0.0 :   True\n",
      "         12 :   0.0 :  S[2,6] - (S[2,5] + P[2,6] - 900) :   0.0 :   True\n",
      "         13 :   0.0 :          S[3,1] - (P[3,1] - 2200) :   0.0 :   True\n",
      "         14 :   0.0 : S[3,2] - (S[3,1] + P[3,2] - 1500) :   0.0 :   True\n",
      "         15 :   0.0 : S[3,3] - (S[3,2] + P[3,3] - 2900) :   0.0 :   True\n",
      "         16 :   0.0 : S[3,4] - (S[3,3] + P[3,4] - 1800) :   0.0 :   True\n",
      "         17 :   0.0 : S[3,5] - (S[3,4] + P[3,5] - 1200) :   0.0 :   True\n",
      "         18 :   0.0 : S[3,6] - (S[3,5] + P[3,6] - 2100) :   0.0 :   True\n",
      "         19 :   0.0 :          S[4,1] - (P[4,1] - 1400) :   0.0 :   True\n",
      "         20 :   0.0 : S[4,2] - (S[4,1] + P[4,2] - 1600) :   0.0 :   True\n",
      "         21 :   0.0 : S[4,3] - (S[4,2] + P[4,3] - 1500) :   0.0 :   True\n",
      "         22 :   0.0 : S[4,4] - (S[4,3] + P[4,4] - 1000) :   0.0 :   True\n",
      "         23 :   0.0 : S[4,5] - (S[4,4] + P[4,5] - 1100) :   0.0 :   True\n",
      "         24 :   0.0 : S[4,6] - (S[4,5] + P[4,6] - 1200) :   0.0 :   True\n",
      "    con2 : Size=4, Index={1, 2, 3, 4}, Active=True\n",
      "        Key : Lower : Body   : Upper : Active\n",
      "          1 :  50.0 : S[1,6] :  50.0 :   True\n",
      "          2 :  10.0 : S[2,6] :  10.0 :   True\n",
      "          3 :  10.0 : S[3,6] :  10.0 :   True\n",
      "          4 :  10.0 : S[4,6] :  10.0 :   True\n",
      "    con3 : Size=6, Index={1, 2, 3, 4, 5, 6}, Active=True\n",
      "        Key : Lower : Body                                                                                                    : Upper : Active\n",
      "          1 :   0.0 :                                                       P[1,1] + P[2,1] + P[3,1] + P[4,1] - incremento[1] :   0.0 :   True\n",
      "          2 :   0.0 : P[1,2] - P[1,1] + P[2,2] - P[2,1] + P[3,2] - P[3,1] + P[4,2] - P[4,1] - (incremento[2] - decremento[2]) :   0.0 :   True\n",
      "          3 :   0.0 : P[1,3] - P[1,2] + P[2,3] - P[2,2] + P[3,3] - P[3,2] + P[4,3] - P[4,2] - (incremento[3] - decremento[3]) :   0.0 :   True\n",
      "          4 :   0.0 : P[1,4] - P[1,3] + P[2,4] - P[2,3] + P[3,4] - P[3,3] + P[4,4] - P[4,3] - (incremento[4] - decremento[4]) :   0.0 :   True\n",
      "          5 :   0.0 : P[1,5] - P[1,4] + P[2,5] - P[2,4] + P[3,5] - P[3,4] + P[4,5] - P[4,4] - (incremento[5] - decremento[5]) :   0.0 :   True\n",
      "          6 :   0.0 : P[1,6] - P[1,5] + P[2,6] - P[2,5] + P[3,6] - P[3,5] + P[4,6] - P[4,5] - (incremento[6] - decremento[6]) :   0.0 :   True\n",
      "\n",
      "8 Declarations: P S incremento decremento obj con1 con2 con3\n"
     ]
    }
   ],
   "source": [
    "model.pprint()"
   ]
  },
  {
   "cell_type": "code",
   "execution_count": 10,
   "metadata": {},
   "outputs": [],
   "source": [
    "# Llamamos al solver GLPK y resolvemos el problema\n",
    "solver = pyo.SolverFactory(\"glpk\")\n",
    "resultados = solver.solve(model)"
   ]
  },
  {
   "cell_type": "code",
   "execution_count": 11,
   "metadata": {},
   "outputs": [
    {
     "data": {
      "text/plain": [
       "{'Problem': [{'Name': 'unknown', 'Lower bound': 684209.4, 'Upper bound': 684209.4, 'Number of objectives': 1, 'Number of constraints': 34, 'Number of variables': 59, 'Number of nonzeros': 127, 'Sense': 'minimize'}], 'Solver': [{'Status': 'ok', 'Termination condition': 'optimal', 'Statistics': {'Branch and bound': {'Number of bounded subproblems': '9', 'Number of created subproblems': '9'}}, 'Error rc': 0, 'Time': 0.06754302978515625}], 'Solution': [OrderedDict({'number of solutions': 0, 'number of solutions displayed': 0})]}"
      ]
     },
     "execution_count": 11,
     "metadata": {},
     "output_type": "execute_result"
    }
   ],
   "source": [
    "resultados"
   ]
  },
  {
   "cell_type": "code",
   "execution_count": 12,
   "metadata": {},
   "outputs": [
    {
     "name": "stdout",
     "output_type": "stream",
     "text": [
      "Valor de la función objetivo: 684209.4\n"
     ]
    }
   ],
   "source": [
    "print(f\"Valor de la función objetivo: {pyo.value(model.obj)}\")"
   ]
  },
  {
   "cell_type": "code",
   "execution_count": 64,
   "metadata": {},
   "outputs": [
    {
     "name": "stdout",
     "output_type": "stream",
     "text": [
      "Producción por mes para cada producto:\n",
      "Mes 1:\n",
      "  Producto 1: 1490.0 unidades\n",
      "  Producto 2: 1300.0 unidades\n",
      "  Producto 3: 2200.0 unidades\n",
      "  Producto 4: 2082.0 unidades\n",
      "Mes 2:\n",
      "  Producto 1: 3000.0 unidades\n",
      "  Producto 2: 800.0 unidades\n",
      "  Producto 3: 1500.0 unidades\n",
      "  Producto 4: 1772.0 unidades\n",
      "Mes 3:\n",
      "  Producto 1: 2000.0 unidades\n",
      "  Producto 2: 800.0 unidades\n",
      "  Producto 3: 2900.0 unidades\n",
      "  Producto 4: 1373.0 unidades\n",
      "Mes 4:\n",
      "  Producto 1: 4000.0 unidades\n",
      "  Producto 2: 1000.0 unidades\n",
      "  Producto 3: 1800.0 unidades\n",
      "  Producto 4: 273.0 unidades\n",
      "Mes 5:\n",
      "  Producto 1: 2000.0 unidades\n",
      "  Producto 2: 1100.0 unidades\n",
      "  Producto 3: 1890.0 unidades\n",
      "  Producto 4: 1100.0 unidades\n",
      "Mes 6:\n",
      "  Producto 1: 2550.0 unidades\n",
      "  Producto 2: 910.0 unidades\n",
      "  Producto 3: 1420.0 unidades\n",
      "  Producto 4: 1210.0 unidades\n"
     ]
    }
   ],
   "source": [
    "print(\"Producción por mes para cada producto:\")\n",
    "for j in J:\n",
    "    print(f\"Mes {j}:\")\n",
    "    for i in I:\n",
    "        print(f\"  Producto {i}: {pyo.value(model.P[i, j])} unidades\")"
   ]
  },
  {
   "cell_type": "code",
   "execution_count": 65,
   "metadata": {},
   "outputs": [
    {
     "name": "stdout",
     "output_type": "stream",
     "text": [
      "Inventario del producto 1 al final del mes 1: 0.0\n",
      "Inventario del producto 1 al final del mes 2: 0.0\n",
      "Inventario del producto 1 al final del mes 3: 0.0\n",
      "Inventario del producto 1 al final del mes 4: 0.0\n",
      "Inventario del producto 1 al final del mes 5: 0.0\n",
      "Inventario del producto 1 al final del mes 6: 50.0\n",
      "Inventario del producto 2 al final del mes 1: 0.0\n",
      "Inventario del producto 2 al final del mes 2: 0.0\n",
      "Inventario del producto 2 al final del mes 3: 0.0\n",
      "Inventario del producto 2 al final del mes 4: 0.0\n",
      "Inventario del producto 2 al final del mes 5: 0.0\n",
      "Inventario del producto 2 al final del mes 6: 10.0\n",
      "Inventario del producto 3 al final del mes 1: 0.0\n",
      "Inventario del producto 3 al final del mes 2: 0.0\n",
      "Inventario del producto 3 al final del mes 3: 0.0\n",
      "Inventario del producto 3 al final del mes 4: 0.0\n",
      "Inventario del producto 3 al final del mes 5: 690.0\n",
      "Inventario del producto 3 al final del mes 6: 10.0\n",
      "Inventario del producto 4 al final del mes 1: 682.0\n",
      "Inventario del producto 4 al final del mes 2: 854.0\n",
      "Inventario del producto 4 al final del mes 3: 727.0\n",
      "Inventario del producto 4 al final del mes 4: 0.0\n",
      "Inventario del producto 4 al final del mes 5: 0.0\n",
      "Inventario del producto 4 al final del mes 6: 10.0\n"
     ]
    }
   ],
   "source": [
    "# Mostrar resultados\n",
    "for i in I:\n",
    "    for j in J:\n",
    "        print(f\"Inventario del producto {i} al final del mes {j}: {model.S[i, j].value}\")"
   ]
  },
  {
   "cell_type": "code",
   "execution_count": 66,
   "metadata": {},
   "outputs": [
    {
     "name": "stdout",
     "output_type": "stream",
     "text": [
      "Total de piezas producidas por mes:\n",
      "Mes 1: 7072.0 unidades\n",
      "Mes 2: 7072.0 unidades\n",
      "Mes 3: 7073.0 unidades\n",
      "Mes 4: 7073.0 unidades\n",
      "Mes 5: 6090.0 unidades\n",
      "Mes 6: 6090.0 unidades\n"
     ]
    }
   ],
   "source": [
    "print(\"Total de piezas producidas por mes:\")\n",
    "for j in J:\n",
    "    total_mes = 0\n",
    "    for i in I:\n",
    "        total_mes += pyo.value(model.P[i, j])  # Sumar la producción de cada producto en el mes j\n",
    "    print(f\"Mes {j}: {total_mes} unidades\")"
   ]
  },
  {
   "cell_type": "code",
   "execution_count": 67,
   "metadata": {},
   "outputs": [
    {
     "name": "stdout",
     "output_type": "stream",
     "text": [
      "\n",
      "Incremento de la producción por mes:\n",
      "Mes 2: Incremento = 0.0, Decremento = 0.0\n",
      "Mes 3: Incremento = 1.0, Decremento = 0.0\n",
      "Mes 4: Incremento = 0.0, Decremento = 0.0\n",
      "Mes 5: Incremento = 0.0, Decremento = 983.0\n",
      "Mes 6: Incremento = 0.0, Decremento = 0.0\n"
     ]
    }
   ],
   "source": [
    "# Imprimir el incremento y decremento de la producción\n",
    "print(\"\\nIncremento de la producción por mes:\")\n",
    "for j in J:\n",
    "    if j > 1:\n",
    "        print(f\"Mes {j}: Incremento = {pyo.value(model.incremento[j])}, Decremento = {pyo.value(model.decremento[j])}\")"
   ]
  }
 ],
 "metadata": {
  "kernelspec": {
   "display_name": "base",
   "language": "python",
   "name": "python3"
  },
  "language_info": {
   "codemirror_mode": {
    "name": "ipython",
    "version": 3
   },
   "file_extension": ".py",
   "mimetype": "text/x-python",
   "name": "python",
   "nbconvert_exporter": "python",
   "pygments_lexer": "ipython3",
   "version": "3.12.3"
  }
 },
 "nbformat": 4,
 "nbformat_minor": 2
}
